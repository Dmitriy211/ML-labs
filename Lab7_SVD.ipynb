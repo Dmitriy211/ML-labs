{
 "cells": [
  {
   "cell_type": "code",
   "execution_count": 4,
   "metadata": {},
   "outputs": [],
   "source": [
    "import numpy as np\n",
    "from numpy import dot\n",
    "import math\n",
    "from scipy import linalg"
   ]
  },
  {
   "cell_type": "code",
   "execution_count": 40,
   "metadata": {},
   "outputs": [],
   "source": [
    "def SVD(A):\n",
    "    \n",
    "    AT = A.transpose()\n",
    "    ATA = AT.dot(A)\n",
    "    \n",
    "    M = {}\n",
    "    M['S'], M['V'] = np.linalg.eig(ATA)\n",
    "    print(np.linalg.eig(ATA))\n",
    "    \n",
    "    for i in range(len(M['S'])):\n",
    "        M['S'][i] = math.sqrt(abs(M['S'][i]))\n",
    "    #M['S'] = sorted(M['S'], reverse=1)\n",
    "    M['S'] = np.diag(M['S'])\n",
    "    \n",
    "    M['U'] = A.dot(M['V']).dot(np.linalg.inv(M['S']))\n",
    "    M['USVT'] = M['U'].dot(M['S'].dot(M['V'].transpose()))\n",
    "    \n",
    "    return M\n"
   ]
  },
  {
   "cell_type": "code",
   "execution_count": 42,
   "metadata": {},
   "outputs": [
    {
     "name": "stdout",
     "output_type": "stream",
     "text": [
      "(array([ 8.00000000e+00, -7.68216532e-18,  2.00000000e+00]), array([[-4.08248290e-01,  7.07106781e-01, -5.77350269e-01],\n",
      "       [-8.66025404e-01, -5.00000000e-01, -7.84321844e-17],\n",
      "       [-2.88675135e-01,  5.00000000e-01,  8.16496581e-01]]))\n",
      "--- OLD ---\n",
      "[[0.         1.         1.        ]\n",
      " [1.41421356 2.         0.        ]\n",
      " [0.         1.         1.        ]]\n",
      "\n",
      "--- NEW ---\n",
      "[[0.    1.    1.   ]\n",
      " [1.414 2.    0.   ]\n",
      " [0.    1.    1.   ]]\n",
      "\n",
      "--- U ---\n",
      "[[-0.408  0.     0.577]\n",
      " [-0.816  0.    -0.577]\n",
      " [-0.408  0.     0.577]]\n",
      "\n",
      "--- S ---\n",
      "[[2.828 0.    0.   ]\n",
      " [0.    0.    0.   ]\n",
      " [0.    0.    1.414]]\n",
      "--- V ---\n",
      "[[-0.408  0.707 -0.577]\n",
      " [-0.866 -0.5   -0.   ]\n",
      " [-0.289  0.5    0.816]]\n"
     ]
    }
   ],
   "source": [
    "A = np.array([[0, 1, 1], [math.sqrt(2), 2, 0], [0, 1, 1]])\n",
    "matrix = SVD(A)\n",
    "\n",
    "print(\"--- OLD ---\")\n",
    "print(A)\n",
    "\n",
    "print(\"\\n--- NEW ---\")\n",
    "print(np.around(matrix['USVT'], decimals=3))\n",
    "\n",
    "print(\"\\n--- U ---\")\n",
    "print(np.around(matrix['U'], decimals=3))\n",
    "\n",
    "print(\"\\n--- S ---\")\n",
    "print(np.around(matrix['S'], decimals=3))\n",
    "\n",
    "print(\"--- V ---\")\n",
    "print(np.around(matrix['V'], decimals=3))"
   ]
  }
 ],
 "metadata": {
  "kernelspec": {
   "display_name": "Python 3",
   "language": "python",
   "name": "python3"
  },
  "language_info": {
   "codemirror_mode": {
    "name": "ipython",
    "version": 3
   },
   "file_extension": ".py",
   "mimetype": "text/x-python",
   "name": "python",
   "nbconvert_exporter": "python",
   "pygments_lexer": "ipython3",
   "version": "3.6.5"
  }
 },
 "nbformat": 4,
 "nbformat_minor": 2
}
