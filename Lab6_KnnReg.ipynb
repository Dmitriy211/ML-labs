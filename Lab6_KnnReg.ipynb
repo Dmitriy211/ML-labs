{
 "cells": [
  {
   "cell_type": "code",
   "execution_count": 7,
   "metadata": {},
   "outputs": [],
   "source": [
    "import numpy as np\n",
    "from sklearn.datasets import load_iris\n",
    "from sklearn.datasets import load_boston\n",
    "import math\n",
    "import random\n",
    "import operator"
   ]
  },
  {
   "cell_type": "code",
   "execution_count": null,
   "metadata": {},
   "outputs": [],
   "source": []
  },
  {
   "cell_type": "code",
   "execution_count": 2,
   "metadata": {},
   "outputs": [],
   "source": [
    "#define which samples will be tested (random)\n",
    "def getTests(df):\n",
    "    test = []\n",
    "    train = []\n",
    "    \n",
    "    testNums = random.sample(range(0, df.data.shape[0]-1), 5) #5 random examples\n",
    "    trainNums = list((i for i in range(df.data.shape[0]-1) if i not in testNums)) #set without that examples\n",
    "    \n",
    "    for i in testNums:\n",
    "        test.append(df.data[i])\n",
    "        \n",
    "    for i in trainNums:\n",
    "        train.append(df.data[i])\n",
    "        \n",
    "    return (train, test)"
   ]
  },
  {
   "cell_type": "code",
   "execution_count": 3,
   "metadata": {},
   "outputs": [],
   "source": [
    "#predict value\n",
    "def knnReg(t, train, feature, k):\n",
    "    dists = []\n",
    "    \n",
    "    for i in train:\n",
    "        iProj = i.copy()\n",
    "        iProj[feature] = 0;\n",
    "        tProj = t.copy()\n",
    "        tProj[feature] = 0;\n",
    "        dists.append((i, distance(tProj, iProj, feature)))\n",
    "    dists.sort(key=operator.itemgetter(1))\n",
    "    \n",
    "    nn = []\n",
    "    for i in range(k):\n",
    "        nn.append(dists[i][0]) \n",
    "        \n",
    "    s = 0\n",
    "    for i in nn:\n",
    "           s+=i[feature]\n",
    "    t[feature] = s/len(nn)\n",
    "    \n",
    "    return t[feature]"
   ]
  },
  {
   "cell_type": "code",
   "execution_count": 4,
   "metadata": {},
   "outputs": [],
   "source": [
    "#euclidean distance\n",
    "def distance(a, b, feature):\n",
    "    dist = 0\n",
    "    for i in range(len(a)):\n",
    "        if (i!=feature):\n",
    "            dist += math.pow(a[i] - b[i], 2)\n",
    "    dist = math.sqrt(dist)\n",
    "    return dist"
   ]
  },
  {
   "cell_type": "code",
   "execution_count": 17,
   "metadata": {
    "scrolled": true
   },
   "outputs": [
    {
     "name": "stdout",
     "output_type": "stream",
     "text": [
      "Test 1\n",
      "5.0\n",
      "5.133333333333334\n",
      "--------\n",
      "2.0\n",
      "2.3666666666666667\n",
      "--------\n",
      "3.5\n",
      "3.1999999999999997\n",
      "--------\n",
      "1.0\n",
      "1.0333333333333334\n",
      "--------\n",
      "Test 2\n",
      "6.0\n",
      "6.3\n",
      "--------\n",
      "2.7\n",
      "2.6666666666666665\n",
      "--------\n",
      "5.1\n",
      "4.966666666666667\n",
      "--------\n",
      "1.6\n",
      "1.7333333333333334\n",
      "--------\n",
      "Test 3\n",
      "6.5\n",
      "6.7\n",
      "--------\n",
      "3.0\n",
      "3.1\n",
      "--------\n",
      "5.2\n",
      "5.433333333333333\n",
      "--------\n",
      "2.0\n",
      "2.1999999999999997\n",
      "--------\n",
      "Test 4\n",
      "4.4\n",
      "4.833333333333333\n",
      "--------\n",
      "2.9\n",
      "3.0\n",
      "--------\n",
      "1.4\n",
      "1.3999999999999997\n",
      "--------\n",
      "0.2\n",
      "0.20000000000000004\n",
      "--------\n",
      "Test 5\n",
      "4.4\n",
      "4.833333333333333\n",
      "--------\n",
      "3.0\n",
      "3.0666666666666664\n",
      "--------\n",
      "1.3\n",
      "1.4666666666666668\n",
      "--------\n",
      "0.2\n",
      "0.10000000000000002\n",
      "--------\n"
     ]
    }
   ],
   "source": [
    "df = load_iris()\n",
    "\n",
    "data = getTests(df)\n",
    "for i in range(len(data[1])):\n",
    "    print(\"Test\",i+1)\n",
    "    for feature in range(len(data[0][0])):\n",
    "        print(data[1][i][feature])\n",
    "        print(knnReg(data[1][i], data[0], feature, 3))\n",
    "        print(\"--------\")"
   ]
  }
 ],
 "metadata": {
  "kernelspec": {
   "display_name": "Python 3",
   "language": "python",
   "name": "python3"
  },
  "language_info": {
   "codemirror_mode": {
    "name": "ipython",
    "version": 3
   },
   "file_extension": ".py",
   "mimetype": "text/x-python",
   "name": "python",
   "nbconvert_exporter": "python",
   "pygments_lexer": "ipython3",
   "version": "3.6.5"
  }
 },
 "nbformat": 4,
 "nbformat_minor": 2
}
