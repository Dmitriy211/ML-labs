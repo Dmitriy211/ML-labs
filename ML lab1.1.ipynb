{
 "cells": [
  {
   "cell_type": "code",
   "execution_count": 1,
   "metadata": {},
   "outputs": [
    {
     "name": "stdout",
     "output_type": "stream",
     "text": [
      "7 5\n"
     ]
    }
   ],
   "source": [
    "import re\n",
    "import math\n",
    "\n",
    "def cosDist(x, y):\n",
    "    a = 0\n",
    "    b = 0\n",
    "    c = 0\n",
    "    for i in range(len(x)): \n",
    "        a += x[i] * y[i]\n",
    "        b += x[i] * x[i] \n",
    "        c += y[i] * y[i]\n",
    "    return 1 - (a / (math.sqrt(b) * math.sqrt(c)))\n",
    "\n",
    "\n",
    "#1\n",
    "cat_text = open(\"C:\\\\Users\\DanteZ\\Desktop\\ML lab1\\sentences.txt\").read()\n",
    "\n",
    "#2\n",
    "cat_text = cat_text.lower()\n",
    "\n",
    "#3\n",
    "tokens = re.split('[^a-z]', cat_text)\n",
    "while tokens.count('') != 0:\n",
    "    tokens.remove('')\n",
    "\n",
    "#4\n",
    "d = dict.fromkeys(tokens)\n",
    "i = 0\n",
    "for w in d:\n",
    "    d[w] = i\n",
    "    i += 1\n",
    "\n",
    "#5\n",
    "sents = cat_text.split('.\\n')\n",
    "s = 0\n",
    "while s < len(sents):\n",
    "    sents[s] = re.split('[^a-z]', sents[s])\n",
    "    s += 1\n",
    "matrix = [[0 for x in range(len(d))] for y in range(len(sents))]\n",
    "for i in list(range(len(sents))):\n",
    "    for j in d.keys():\n",
    "        for k in list(range(len(sents[i]))):\n",
    "            if sents[i][k] == j:\n",
    "                matrix[i][d[j]] += 1\n",
    "\n",
    "#6\n",
    "dist = {}\n",
    "for i in list(range(len(matrix))):\n",
    "    dist[i] = cosDist(matrix[0], matrix[i])\n",
    "dist = dict.fromkeys(list(dist.values()))\n",
    "i = 1\n",
    "for w in dist:\n",
    "    dist[w] = i\n",
    "    i += 1\n",
    "dist_list = list(dist.keys())\n",
    "dist_list.sort()\n",
    "\n",
    "#7\n",
    "print(dist[dist_list[1]],dist[dist_list[2]])"
   ]
  },
  {
   "cell_type": "code",
   "execution_count": null,
   "metadata": {},
   "outputs": [],
   "source": []
  }
 ],
 "metadata": {
  "kernelspec": {
   "display_name": "Python 3",
   "language": "python",
   "name": "python3"
  },
  "language_info": {
   "codemirror_mode": {
    "name": "ipython",
    "version": 3
   },
   "file_extension": ".py",
   "mimetype": "text/x-python",
   "name": "python",
   "nbconvert_exporter": "python",
   "pygments_lexer": "ipython3",
   "version": "3.6.5"
  }
 },
 "nbformat": 4,
 "nbformat_minor": 2
}
